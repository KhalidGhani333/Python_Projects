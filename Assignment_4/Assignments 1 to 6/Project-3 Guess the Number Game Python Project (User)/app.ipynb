{
 "cells": [
  {
   "cell_type": "code",
   "execution_count": null,
   "metadata": {},
   "outputs": [
    {
     "name": "stdout",
     "output_type": "stream",
     "text": [
      "Sorry,guess again.Too high\n",
      "Sorry,guess again.Too low\n",
      "yay,Congrates.You have guessed the number 6 correctly!!\n"
     ]
    }
   ],
   "source": [
    "import random\n",
    "\n",
    "def guess_number(x):\n",
    "    random_number = random.randint(1,x)\n",
    "    guess = 0\n",
    "    while guess!= random_number:\n",
    "        guess = int(input(f\"Guess a Number Between 1 and {x} \"))\n",
    "        if guess > random_number:\n",
    "            print(\"Sorry,guess again.Too high\")\n",
    "        elif guess < random_number:\n",
    "            print(\"Sorry,guess again.Too low\")\n",
    "    \n",
    "    print(f'yay,Congrates.You have guessed the number {random_number} correctly!!')\n",
    "\n",
    "\n",
    "guess_number(10)\n"
   ]
  }
 ],
 "metadata": {
  "kernelspec": {
   "display_name": "Python 3",
   "language": "python",
   "name": "python3"
  },
  "language_info": {
   "codemirror_mode": {
    "name": "ipython",
    "version": 3
   },
   "file_extension": ".py",
   "mimetype": "text/x-python",
   "name": "python",
   "nbconvert_exporter": "python",
   "pygments_lexer": "ipython3",
   "version": "3.11.9"
  }
 },
 "nbformat": 4,
 "nbformat_minor": 2
}
