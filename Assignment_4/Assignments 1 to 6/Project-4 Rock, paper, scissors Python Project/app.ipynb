{
 "cells": [
  {
   "cell_type": "code",
   "execution_count": 4,
   "metadata": {},
   "outputs": [
    {
     "name": "stdout",
     "output_type": "stream",
     "text": [
      "You Lost!\n"
     ]
    }
   ],
   "source": [
    "import random\n",
    "\n",
    "def play():\n",
    "    user = input(\"What's your choice? 'r' for rock,'p' for paper,'s' for scissors\")\n",
    "    computer = random.choice(['r','p','s'])\n",
    "\n",
    "    if user == computer:\n",
    "        return 'It\\'s a tie'\n",
    "\n",
    "    if is_win(user,computer):\n",
    "        return \"yayy! You Won!\"\n",
    "\n",
    "    return \"You Lost!\"\n",
    "\n",
    "def is_win(player,opponent):\n",
    "    if (player == 'r' and opponent == 's') or (player == 's' and opponent == 'p') or (player == 'p' and opponent == 'r'):\n",
    "        return True\n",
    "\n",
    "\n",
    "print(play())\n"
   ]
  }
 ],
 "metadata": {
  "kernelspec": {
   "display_name": "Python 3",
   "language": "python",
   "name": "python3"
  },
  "language_info": {
   "codemirror_mode": {
    "name": "ipython",
    "version": 3
   },
   "file_extension": ".py",
   "mimetype": "text/x-python",
   "name": "python",
   "nbconvert_exporter": "python",
   "pygments_lexer": "ipython3",
   "version": "3.11.9"
  }
 },
 "nbformat": 4,
 "nbformat_minor": 2
}
