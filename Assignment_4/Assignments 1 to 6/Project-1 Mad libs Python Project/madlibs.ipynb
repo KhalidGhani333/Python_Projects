{
 "cells": [
  {
   "cell_type": "code",
   "execution_count": null,
   "metadata": {},
   "outputs": [
    {
     "name": "stdout",
     "output_type": "stream",
     "text": [
      "🍭 Welcome to the Sweet Adventure!\n",
      "🍦 Fill in the blanks to create your own cheerful ice cream story!\n",
      "\n",
      "\n",
      "==================================================\n",
      "\n",
      "One sunny day,  decided to visit  with their best friend, . \n",
      "On the way, they stopped by an ice cream shop and ordered a big scoop of  ice cream 🍦. \n",
      "As they enjoyed their chilly treat,  suggested they go . \n",
      "With giggles and smiles, they spent the whole day having fun and, to top it all off, they shared a  🍬. \n",
      "\n",
      "It was a sweet day full of laughter, and  couldn't wait for more adventures with ! 😊\n",
      "\n",
      "==================================================\n",
      "\n"
     ]
    }
   ],
   "source": [
    "print(\"🍭 Welcome to the Sweet Adventure!\")\n",
    "print(\"🍦 Fill in the blanks to create your own cheerful ice cream story!\\n\")\n",
    "\n",
    "# Input for a simple story\n",
    "name = input(\"Enter your name: \")\n",
    "flavor = input(\"Enter your favorite ice cream flavor: \")\n",
    "place = input(\"Enter a place you love: \")\n",
    "friend_name = input(\"Enter a friend's name: \")\n",
    "activity = input(\"Enter a fun activity: \")\n",
    "treat = input(\"Enter your favorite treat: \")\n",
    "\n",
    "# Create the simple story using f-strings\n",
    "story = f\"\"\"\n",
    "One sunny day, {name} decided to visit {place} with their best friend, {friend_name}. \n",
    "On the way, they stopped by an ice cream shop and ordered a big scoop of {flavor} ice cream 🍦. \n",
    "As they enjoyed their chilly treat, {friend_name} suggested they go {activity}. \n",
    "With giggles and smiles, they spent the whole day having fun and, to top it all off, they shared a {treat} 🍬. \n",
    "\n",
    "It was a sweet day full of laughter, and {name} couldn't wait for more adventures with {friend_name}! 😊\n",
    "\"\"\"\n",
    "\n",
    "# Display the story\n",
    "print(\"\\n\" + \"=\"*50)\n",
    "print(story)\n",
    "print(\"=\"*50 + \"\\n\")\n"
   ]
  }
 ],
 "metadata": {
  "kernelspec": {
   "display_name": "Python 3",
   "language": "python",
   "name": "python3"
  },
  "language_info": {
   "codemirror_mode": {
    "name": "ipython",
    "version": 3
   },
   "file_extension": ".py",
   "mimetype": "text/x-python",
   "name": "python",
   "nbconvert_exporter": "python",
   "pygments_lexer": "ipython3",
   "version": "3.11.9"
  }
 },
 "nbformat": 4,
 "nbformat_minor": 2
}
