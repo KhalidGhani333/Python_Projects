{
 "cells": [
  {
   "cell_type": "code",
   "execution_count": 5,
   "metadata": {},
   "outputs": [
    {
     "name": "stdout",
     "output_type": "stream",
     "text": [
      "🔐 Welcome to the Simple Password Generator! 🔐\n",
      "\n",
      "🆕 Here are your passwords: \n",
      "Password 1: LiC7fDY8MPZ90vSOA1Tp\n",
      "Password 2: vH?965O7S&npK8GJy@$8\n",
      "Password 3: Qxhrtf3fzoBQ75wYTj*a\n"
     ]
    }
   ],
   "source": [
    "import random\n",
    "\n",
    "print(\"🔐 Welcome to the Simple Password Generator! 🔐\")\n",
    "\n",
    "# Define the characters to use in the password\n",
    "chars = \"abcdefghijklmnopqrstuvwxyzABCDEFGHIJKLMNOPQRSTUVWXYZ!@#$%&*.?0123456789\"\n",
    "\n",
    "# Get user input for the number of passwords and  length of each password\n",
    "num_passwords = int(input(\"How many passwords would you like to generate? \"))\n",
    "password_length = int(input(\"How long should each password be? \"))\n",
    "\n",
    "print(\"\\n🆕 Here are your passwords: \")\n",
    "\n",
    "# Generate the passwords\n",
    "for i in range(num_passwords):\n",
    "    password = ''.join(random.choice(chars) for _ in range(password_length))\n",
    "    print(f\"Password {i+1}: {password}\")\n"
   ]
  }
 ],
 "metadata": {
  "kernelspec": {
   "display_name": "Python 3",
   "language": "python",
   "name": "python3"
  },
  "language_info": {
   "codemirror_mode": {
    "name": "ipython",
    "version": 3
   },
   "file_extension": ".py",
   "mimetype": "text/x-python",
   "name": "python",
   "nbconvert_exporter": "python",
   "pygments_lexer": "ipython3",
   "version": "3.11.9"
  }
 },
 "nbformat": 4,
 "nbformat_minor": 2
}
