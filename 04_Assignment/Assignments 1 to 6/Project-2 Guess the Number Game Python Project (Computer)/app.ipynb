{
 "cells": [
  {
   "cell_type": "code",
   "execution_count": 4,
   "metadata": {},
   "outputs": [
    {
     "name": "stdout",
     "output_type": "stream",
     "text": [
      "Yay! The computer guessed your number, 6, correctly!\n"
     ]
    }
   ],
   "source": [
    "import random\n",
    "\n",
    "def computer_guess(x):\n",
    "    low = 1\n",
    "    high = x\n",
    "    feedback = ''\n",
    "    while feedback != 'c':\n",
    "        if low <= high:\n",
    "            guess_number = random.randint(low, high)\n",
    "        else:\n",
    "            break \n",
    "        feedback = input(f'Is {guess_number} too high (H),too low (L), or correct (C)? ').lower()\n",
    "        if feedback == 'h':\n",
    "            high = guess_number - 1\n",
    "        elif feedback == 'l':\n",
    "            low = guess_number + 1\n",
    "    \n",
    "    print(f\"Yay! The computer guessed your number, {guess_number}, correctly!\")\n",
    "\n",
    "computer_guess(10)\n"
   ]
  }
 ],
 "metadata": {
  "kernelspec": {
   "display_name": "Python 3",
   "language": "python",
   "name": "python3"
  },
  "language_info": {
   "codemirror_mode": {
    "name": "ipython",
    "version": 3
   },
   "file_extension": ".py",
   "mimetype": "text/x-python",
   "name": "python",
   "nbconvert_exporter": "python",
   "pygments_lexer": "ipython3",
   "version": "3.11.9"
  }
 },
 "nbformat": 4,
 "nbformat_minor": 2
}
