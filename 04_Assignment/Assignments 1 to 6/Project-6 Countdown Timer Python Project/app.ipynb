{
 "cells": [
  {
   "cell_type": "code",
   "execution_count": 6,
   "metadata": {},
   "outputs": [
    {
     "name": "stdout",
     "output_type": "stream",
     "text": [
      "Time left 3 Seconds!\n",
      "Time left 2 Seconds!\n",
      "Time left 1 Seconds!\n",
      "⏰ Time's up!\n"
     ]
    }
   ],
   "source": [
    "import time\n",
    "\n",
    "def countdown(seconds):\n",
    "    while seconds > 0:\n",
    "        print(f'Time left {seconds} Seconds!')\n",
    "        time.sleep(1)\n",
    "        seconds -= 1\n",
    "\n",
    "    print(\"⏰ Time's up!\")\n",
    "\n",
    "seconds = int(input(\"Enter Time in Seconds: \"))\n",
    "\n",
    "countdown(seconds)"
   ]
  }
 ],
 "metadata": {
  "kernelspec": {
   "display_name": "Python 3",
   "language": "python",
   "name": "python3"
  },
  "language_info": {
   "codemirror_mode": {
    "name": "ipython",
    "version": 3
   },
   "file_extension": ".py",
   "mimetype": "text/x-python",
   "name": "python",
   "nbconvert_exporter": "python",
   "pygments_lexer": "ipython3",
   "version": "3.11.9"
  }
 },
 "nbformat": 4,
 "nbformat_minor": 2
}
